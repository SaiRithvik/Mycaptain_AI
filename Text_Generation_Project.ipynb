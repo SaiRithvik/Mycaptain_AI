{
  "nbformat": 4,
  "nbformat_minor": 0,
  "metadata": {
    "kernelspec": {
      "display_name": "Python 3",
      "language": "python",
      "name": "python3"
    },
    "language_info": {
      "codemirror_mode": {
        "name": "ipython",
        "version": 3
      },
      "file_extension": ".py",
      "mimetype": "text/x-python",
      "name": "python",
      "nbconvert_exporter": "python",
      "pygments_lexer": "ipython3",
      "version": "3.7.7"
    },
    "colab": {
      "name": "Text_Generation_Project.ipynb",
      "provenance": []
    },
    "accelerator": "GPU"
  },
  "cells": [
    {
      "cell_type": "code",
      "metadata": {
        "id": "JE2wXPcdtwvl",
        "colab_type": "code",
        "colab": {
          "base_uri": "https://localhost:8080/",
          "height": 52
        },
        "outputId": "3cd8127d-6978-42f5-c3cb-5cfa25ea990b"
      },
      "source": [
        "import numpy as np\n",
        "import sys\n",
        "from nltk.tokenize import RegexpTokenizer\n",
        "import nltk\n",
        "nltk.download('stopwords')\n",
        "from nltk.corpus import stopwords\n",
        "from keras.models import Sequential\n",
        "from keras.layers import Dense, Dropout, LSTM\n",
        "from keras.utils import np_utils\n",
        "from keras.callbacks import ModelCheckpoint"
      ],
      "execution_count": 72,
      "outputs": [
        {
          "output_type": "stream",
          "text": [
            "[nltk_data] Downloading package stopwords to /root/nltk_data...\n",
            "[nltk_data]   Package stopwords is already up-to-date!\n"
          ],
          "name": "stdout"
        }
      ]
    },
    {
      "cell_type": "code",
      "metadata": {
        "id": "8wwxyrPEtwvt",
        "colab_type": "code",
        "colab": {}
      },
      "source": [
        "#import nltk\n",
        "#nltk.download()\n",
        "#nltk.download('stopwords')"
      ],
      "execution_count": 73,
      "outputs": []
    },
    {
      "cell_type": "code",
      "metadata": {
        "id": "J22wYfyWtwv1",
        "colab_type": "code",
        "colab": {}
      },
      "source": [
        "file = open(\"frankenstein-2.txt\").read()"
      ],
      "execution_count": 74,
      "outputs": []
    },
    {
      "cell_type": "code",
      "metadata": {
        "id": "coARpCEatwv7",
        "colab_type": "code",
        "colab": {}
      },
      "source": [
        "def tokenize_words(input):\n",
        "    input = input.lower()\n",
        "    tokenizer = RegexpTokenizer(r'\\w+')\n",
        "    tokens = tokenizer.tokenize(input)\n",
        "    filtered = filter(lambda token: token not in stopwords.words('english'), tokens)\n",
        "    return \"\".join(filtered)\n",
        "\n",
        "processed_inputs = tokenize_words(file)\n",
        "    \n",
        "    "
      ],
      "execution_count": 75,
      "outputs": []
    },
    {
      "cell_type": "code",
      "metadata": {
        "id": "HixhZREXtwwA",
        "colab_type": "code",
        "colab": {}
      },
      "source": [
        "chars = sorted(list(set(processed_inputs)))\n",
        "char_to_num = dict((c,i) for i, c in enumerate(chars))"
      ],
      "execution_count": 76,
      "outputs": []
    },
    {
      "cell_type": "code",
      "metadata": {
        "id": "AugHPCE8twwG",
        "colab_type": "code",
        "colab": {}
      },
      "source": [
        "input_len = len(processed_inputs)\n",
        "vocab_len = len(chars)"
      ],
      "execution_count": 77,
      "outputs": []
    },
    {
      "cell_type": "code",
      "metadata": {
        "id": "TVisE0_vtwwU",
        "colab_type": "code",
        "colab": {
          "base_uri": "https://localhost:8080/",
          "height": 34
        },
        "outputId": "c9b40e8f-3567-4089-8519-0c1b635ab963"
      },
      "source": [
        "print(input_len, vocab_len)"
      ],
      "execution_count": 78,
      "outputs": [
        {
          "output_type": "stream",
          "text": [
            "233296 42\n"
          ],
          "name": "stdout"
        }
      ]
    },
    {
      "cell_type": "code",
      "metadata": {
        "id": "g6TuZsNJtwwc",
        "colab_type": "code",
        "colab": {}
      },
      "source": [
        "seq_length = 100\n",
        "x_data = []\n",
        "y_data = []"
      ],
      "execution_count": 79,
      "outputs": []
    },
    {
      "cell_type": "code",
      "metadata": {
        "id": "vG2h8CT9twwj",
        "colab_type": "code",
        "colab": {
          "base_uri": "https://localhost:8080/",
          "height": 34
        },
        "outputId": "1845c6dc-f6d6-4a80-e0d4-c54cba666089"
      },
      "source": [
        "for i in range(0, input_len - seq_length, 1):\n",
        "    in_seq = processed_inputs[i:i+seq_length]\n",
        "    out_seq = processed_inputs[i+seq_length]\n",
        "    x_data.append([char_to_num[char] for char in in_seq])\n",
        "    y_data.append(char_to_num[out_seq])\n",
        "n_patterns = len(x_data)\n",
        "print(n_patterns)"
      ],
      "execution_count": 80,
      "outputs": [
        {
          "output_type": "stream",
          "text": [
            "233196\n"
          ],
          "name": "stdout"
        }
      ]
    },
    {
      "cell_type": "code",
      "metadata": {
        "id": "SGQSS4P-twwq",
        "colab_type": "code",
        "colab": {}
      },
      "source": [
        "X = np.reshape(x_data, (n_patterns, seq_length, 1))\n",
        "X = X/float(vocab_len)"
      ],
      "execution_count": 81,
      "outputs": []
    },
    {
      "cell_type": "code",
      "metadata": {
        "id": "gMh5bZl9twwx",
        "colab_type": "code",
        "colab": {}
      },
      "source": [
        "y = np_utils.to_categorical(y_data)"
      ],
      "execution_count": 82,
      "outputs": []
    },
    {
      "cell_type": "code",
      "metadata": {
        "id": "7EXbBKy4tww2",
        "colab_type": "code",
        "colab": {}
      },
      "source": [
        "model = Sequential()\n",
        "model.add(LSTM(256, input_shape=(X.shape[1], X.shape[2]), return_sequences=True))\n",
        "model.add(Dropout(0.25))\n",
        "model.add(LSTM(256, return_sequences = True))\n",
        "model.add(Dropout(0.2))\n",
        "model.add(LSTM(128))\n",
        "model.add(Dropout(0.2))\n",
        "model.add(Dense(y.shape[1], activation = 'softmax'))"
      ],
      "execution_count": 83,
      "outputs": []
    },
    {
      "cell_type": "code",
      "metadata": {
        "id": "p8MQ_E5StwxK",
        "colab_type": "code",
        "colab": {}
      },
      "source": [
        "model.compile(loss='categorical_crossentropy',optimizer = 'adam')"
      ],
      "execution_count": 84,
      "outputs": []
    },
    {
      "cell_type": "code",
      "metadata": {
        "id": "B1EDcSXktwxQ",
        "colab_type": "code",
        "colab": {}
      },
      "source": [
        "filepath = 'model_Weights.hdf5'\n",
        "checkpoint = ModelCheckpoint(filepath,monitor = 'loss',verbose = 1, save_best_only=True,mode='min')\n",
        "desired_callbacks=[checkpoint]"
      ],
      "execution_count": 85,
      "outputs": []
    },
    {
      "cell_type": "code",
      "metadata": {
        "id": "uvVC4ofnuuA-",
        "colab_type": "code",
        "colab": {
          "base_uri": "https://localhost:8080/",
          "height": 316
        },
        "outputId": "ac82646f-1c53-4b11-cc73-f773e03e61f0"
      },
      "source": [
        "model.fit(X,y,epochs = 4, batch_size = 256, callbacks = desired_callbacks)"
      ],
      "execution_count": 86,
      "outputs": [
        {
          "output_type": "stream",
          "text": [
            "Epoch 1/4\n",
            "233196/233196 [==============================] - 650s 3ms/step - loss: 2.9351\n",
            "\n",
            "Epoch 00001: loss improved from inf to 2.93511, saving model to model_Weights.hdf5\n",
            "Epoch 2/4\n",
            "233196/233196 [==============================] - 648s 3ms/step - loss: 2.9159\n",
            "\n",
            "Epoch 00002: loss improved from 2.93511 to 2.91586, saving model to model_Weights.hdf5\n",
            "Epoch 3/4\n",
            "233196/233196 [==============================] - 634s 3ms/step - loss: 2.9098\n",
            "\n",
            "Epoch 00003: loss improved from 2.91586 to 2.90982, saving model to model_Weights.hdf5\n",
            "Epoch 4/4\n",
            "233196/233196 [==============================] - 638s 3ms/step - loss: 2.8783\n",
            "\n",
            "Epoch 00004: loss improved from 2.90982 to 2.87830, saving model to model_Weights.hdf5\n"
          ],
          "name": "stdout"
        },
        {
          "output_type": "execute_result",
          "data": {
            "text/plain": [
              "<keras.callbacks.callbacks.History at 0x7fe4fa1d9668>"
            ]
          },
          "metadata": {
            "tags": []
          },
          "execution_count": 86
        }
      ]
    },
    {
      "cell_type": "code",
      "metadata": {
        "id": "soRTNmzAu8d2",
        "colab_type": "code",
        "colab": {}
      },
      "source": [
        "filename = \"model_Weights.hdf5\"\n",
        "model.load_weights(filename)\n",
        "model.compile(loss='categorical_crossentropy', optimizer='adam')"
      ],
      "execution_count": 87,
      "outputs": []
    },
    {
      "cell_type": "code",
      "metadata": {
        "id": "RqMNA7uLwlgL",
        "colab_type": "code",
        "colab": {}
      },
      "source": [
        "num_to_char = dict((i,c) for i,c in enumerate(chars))"
      ],
      "execution_count": 88,
      "outputs": []
    },
    {
      "cell_type": "code",
      "metadata": {
        "id": "Ri3b9IjYBXQI",
        "colab_type": "code",
        "colab": {
          "base_uri": "https://localhost:8080/",
          "height": 52
        },
        "outputId": "0b5209d9-4472-4010-fd63-d262ce2a2327"
      },
      "source": [
        "start = np.random.randint(0, len(x_data)-1)\n",
        "pattern = x_data[start]\n",
        "print(\"Random Seed:\")\n",
        "print(\"\\\"\",''.join([num_to_char[value] for value in pattern]), \"\\\"\")"
      ],
      "execution_count": 91,
      "outputs": [
        {
          "output_type": "stream",
          "text": [
            "Random Seed:\n",
            "\" ligencesearchphilosopherstoneelixirlifelattersoonobtainedundividedattentionwealthinferiorobjectglory \"\n"
          ],
          "name": "stdout"
        }
      ]
    },
    {
      "cell_type": "code",
      "metadata": {
        "id": "ZGNFKygayIAu",
        "colab_type": "code",
        "colab": {
          "base_uri": "https://localhost:8080/",
          "height": 54
        },
        "outputId": "b5d3db7e-ccdd-47dd-f146-0292c8ea3671"
      },
      "source": [
        "for i in range(1000):\n",
        "  x = np.reshape(pattern, (1,len(pattern),1))\n",
        "  x = x/float(vocab_len)\n",
        "  prediction = model.predict(x, verbose = 0)\n",
        "  index = np.argmax(prediction)\n",
        "  result = num_to_char[index]\n",
        "  seq_in = [num_to_char[value] for value in pattern]\n",
        "  sys.stdout.write(result)\n",
        "  pattern.append(index)\n",
        "  pattern = pattern[1:len(pattern)]"
      ],
      "execution_count": 92,
      "outputs": [
        {
          "output_type": "stream",
          "text": [
            "ereerereerereerereerereerereerereerereerereerereerereerereerereerereerereerereerereerereerereerereerereerereerereerereerereerereerereerereerereerereerereerereerereerereerereerereerereerereerereerereerereerereerereerereerereerereerereerereerereerereerereerereerereerereerereerereerereerereerereerereerereerereerereerereerereerereerereerereerereerereerereerereerereerereerereerereerereerereerereerereerereerereerereerereerereerereerereerereerereerereerereerereerereerereerereerereerereerereerereerereerereerereerereerereerereerereerereerereerereerereerereerereerereerereerereerereerereerereerereerereerereerereerereerereerereerereerereerereerereerereerereerereerereerereerereerereerereerereerereerereerereerereerereerereerereerereerereerereerereerereerereerereerereerereerereerereerereerereerereerereerereerereerereerereerereerereerereerereerereerereerereerereerereerereerereerereerereerereerereerereerereerereerereerereerereerereerereerereerereerereerereerereerereerereerereerereerereerereerereerereer"
          ],
          "name": "stdout"
        }
      ]
    },
    {
      "cell_type": "code",
      "metadata": {
        "id": "mEeu8PJ4Bs5r",
        "colab_type": "code",
        "colab": {}
      },
      "source": [
        ""
      ],
      "execution_count": null,
      "outputs": []
    }
  ]
}